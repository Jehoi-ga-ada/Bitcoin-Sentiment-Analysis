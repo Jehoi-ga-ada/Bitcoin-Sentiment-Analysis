{
 "cells": [
  {
   "cell_type": "code",
   "execution_count": 1,
   "metadata": {},
   "outputs": [],
   "source": [
    "import pandas as pd"
   ]
  },
  {
   "cell_type": "code",
   "execution_count": 7,
   "metadata": {},
   "outputs": [],
   "source": [
    "daily_sentiment = pd.read_csv(\"daily_sentiment.csv\")\n",
    "btc_price_action = pd.read_csv(\"BTC-Daily.csv\")"
   ]
  },
  {
   "cell_type": "markdown",
   "metadata": {},
   "source": [
    "Changing the date in btc_price_action into datetime"
   ]
  },
  {
   "cell_type": "code",
   "execution_count": 16,
   "metadata": {},
   "outputs": [
    {
     "name": "stdout",
     "output_type": "stream",
     "text": [
      "object\n"
     ]
    }
   ],
   "source": [
    "print(daily_sentiment['date'].dtype)  # This should ideally be 'object' indicating string\n",
    "\n",
    "# Convert the column to datetime\n",
    "daily_sentiment['date'] = pd.to_datetime(daily_sentiment['date'])\n",
    "\n",
    "# Now, you can use .dt accessor\n",
    "daily_sentiment['date'] = daily_sentiment['date'].dt.date"
   ]
  },
  {
   "cell_type": "code",
   "execution_count": 17,
   "metadata": {},
   "outputs": [
    {
     "ename": "KeyError",
     "evalue": "'volume'",
     "output_type": "error",
     "traceback": [
      "\u001b[1;31m---------------------------------------------------------------------------\u001b[0m",
      "\u001b[1;31mKeyError\u001b[0m                                  Traceback (most recent call last)",
      "File \u001b[1;32mc:\\anaconda3\\envs\\natural-language-processing\\lib\\site-packages\\pandas\\core\\indexes\\base.py:3791\u001b[0m, in \u001b[0;36mIndex.get_loc\u001b[1;34m(self, key)\u001b[0m\n\u001b[0;32m   3790\u001b[0m \u001b[39mtry\u001b[39;00m:\n\u001b[1;32m-> 3791\u001b[0m     \u001b[39mreturn\u001b[39;00m \u001b[39mself\u001b[39;49m\u001b[39m.\u001b[39;49m_engine\u001b[39m.\u001b[39;49mget_loc(casted_key)\n\u001b[0;32m   3792\u001b[0m \u001b[39mexcept\u001b[39;00m \u001b[39mKeyError\u001b[39;00m \u001b[39mas\u001b[39;00m err:\n",
      "File \u001b[1;32mindex.pyx:152\u001b[0m, in \u001b[0;36mpandas._libs.index.IndexEngine.get_loc\u001b[1;34m()\u001b[0m\n",
      "File \u001b[1;32mindex.pyx:181\u001b[0m, in \u001b[0;36mpandas._libs.index.IndexEngine.get_loc\u001b[1;34m()\u001b[0m\n",
      "File \u001b[1;32mpandas\\_libs\\hashtable_class_helper.pxi:7080\u001b[0m, in \u001b[0;36mpandas._libs.hashtable.PyObjectHashTable.get_item\u001b[1;34m()\u001b[0m\n",
      "File \u001b[1;32mpandas\\_libs\\hashtable_class_helper.pxi:7088\u001b[0m, in \u001b[0;36mpandas._libs.hashtable.PyObjectHashTable.get_item\u001b[1;34m()\u001b[0m\n",
      "\u001b[1;31mKeyError\u001b[0m: 'volume'",
      "\nThe above exception was the direct cause of the following exception:\n",
      "\u001b[1;31mKeyError\u001b[0m                                  Traceback (most recent call last)",
      "\u001b[1;32mc:\\Artificial_Intelligence\\Bitcoin-Sentiment-Analysis\\SentimentScoring\\DataJoin.ipynb Cell 5\u001b[0m line \u001b[0;36m1\n\u001b[1;32m----> <a href='vscode-notebook-cell:/c%3A/Artificial_Intelligence/Bitcoin-Sentiment-Analysis/SentimentScoring/DataJoin.ipynb#X11sZmlsZQ%3D%3D?line=0'>1</a>\u001b[0m daily_sentiment[\u001b[39m'\u001b[39m\u001b[39mtweet_volume\u001b[39m\u001b[39m'\u001b[39m] \u001b[39m=\u001b[39m daily_sentiment[\u001b[39m'\u001b[39;49m\u001b[39mvolume\u001b[39;49m\u001b[39m'\u001b[39;49m]\n\u001b[0;32m      <a href='vscode-notebook-cell:/c%3A/Artificial_Intelligence/Bitcoin-Sentiment-Analysis/SentimentScoring/DataJoin.ipynb#X11sZmlsZQ%3D%3D?line=1'>2</a>\u001b[0m daily_sentiment\u001b[39m.\u001b[39mdrop(columns\u001b[39m=\u001b[39m[\u001b[39m'\u001b[39m\u001b[39mvolume\u001b[39m\u001b[39m'\u001b[39m], inplace\u001b[39m=\u001b[39m\u001b[39mTrue\u001b[39;00m)\n\u001b[0;32m      <a href='vscode-notebook-cell:/c%3A/Artificial_Intelligence/Bitcoin-Sentiment-Analysis/SentimentScoring/DataJoin.ipynb#X11sZmlsZQ%3D%3D?line=2'>3</a>\u001b[0m daily_sentiment\u001b[39m.\u001b[39mhead()\n",
      "File \u001b[1;32mc:\\anaconda3\\envs\\natural-language-processing\\lib\\site-packages\\pandas\\core\\frame.py:3893\u001b[0m, in \u001b[0;36mDataFrame.__getitem__\u001b[1;34m(self, key)\u001b[0m\n\u001b[0;32m   3891\u001b[0m \u001b[39mif\u001b[39;00m \u001b[39mself\u001b[39m\u001b[39m.\u001b[39mcolumns\u001b[39m.\u001b[39mnlevels \u001b[39m>\u001b[39m \u001b[39m1\u001b[39m:\n\u001b[0;32m   3892\u001b[0m     \u001b[39mreturn\u001b[39;00m \u001b[39mself\u001b[39m\u001b[39m.\u001b[39m_getitem_multilevel(key)\n\u001b[1;32m-> 3893\u001b[0m indexer \u001b[39m=\u001b[39m \u001b[39mself\u001b[39;49m\u001b[39m.\u001b[39;49mcolumns\u001b[39m.\u001b[39;49mget_loc(key)\n\u001b[0;32m   3894\u001b[0m \u001b[39mif\u001b[39;00m is_integer(indexer):\n\u001b[0;32m   3895\u001b[0m     indexer \u001b[39m=\u001b[39m [indexer]\n",
      "File \u001b[1;32mc:\\anaconda3\\envs\\natural-language-processing\\lib\\site-packages\\pandas\\core\\indexes\\base.py:3798\u001b[0m, in \u001b[0;36mIndex.get_loc\u001b[1;34m(self, key)\u001b[0m\n\u001b[0;32m   3793\u001b[0m     \u001b[39mif\u001b[39;00m \u001b[39misinstance\u001b[39m(casted_key, \u001b[39mslice\u001b[39m) \u001b[39mor\u001b[39;00m (\n\u001b[0;32m   3794\u001b[0m         \u001b[39misinstance\u001b[39m(casted_key, abc\u001b[39m.\u001b[39mIterable)\n\u001b[0;32m   3795\u001b[0m         \u001b[39mand\u001b[39;00m \u001b[39many\u001b[39m(\u001b[39misinstance\u001b[39m(x, \u001b[39mslice\u001b[39m) \u001b[39mfor\u001b[39;00m x \u001b[39min\u001b[39;00m casted_key)\n\u001b[0;32m   3796\u001b[0m     ):\n\u001b[0;32m   3797\u001b[0m         \u001b[39mraise\u001b[39;00m InvalidIndexError(key)\n\u001b[1;32m-> 3798\u001b[0m     \u001b[39mraise\u001b[39;00m \u001b[39mKeyError\u001b[39;00m(key) \u001b[39mfrom\u001b[39;00m \u001b[39merr\u001b[39;00m\n\u001b[0;32m   3799\u001b[0m \u001b[39mexcept\u001b[39;00m \u001b[39mTypeError\u001b[39;00m:\n\u001b[0;32m   3800\u001b[0m     \u001b[39m# If we have a listlike key, _check_indexing_error will raise\u001b[39;00m\n\u001b[0;32m   3801\u001b[0m     \u001b[39m#  InvalidIndexError. Otherwise we fall through and re-raise\u001b[39;00m\n\u001b[0;32m   3802\u001b[0m     \u001b[39m#  the TypeError.\u001b[39;00m\n\u001b[0;32m   3803\u001b[0m     \u001b[39mself\u001b[39m\u001b[39m.\u001b[39m_check_indexing_error(key)\n",
      "\u001b[1;31mKeyError\u001b[0m: 'volume'"
     ]
    }
   ],
   "source": [
    "daily_sentiment['tweet_volume'] = daily_sentiment['volume']\n",
    "daily_sentiment.drop(columns=['volume'], inplace=True)\n",
    "daily_sentiment.head()"
   ]
  },
  {
   "cell_type": "code",
   "execution_count": 22,
   "metadata": {},
   "outputs": [
    {
     "name": "stdout",
     "output_type": "stream",
     "text": [
      "object\n"
     ]
    },
    {
     "data": {
      "text/html": [
       "<div>\n",
       "<style scoped>\n",
       "    .dataframe tbody tr th:only-of-type {\n",
       "        vertical-align: middle;\n",
       "    }\n",
       "\n",
       "    .dataframe tbody tr th {\n",
       "        vertical-align: top;\n",
       "    }\n",
       "\n",
       "    .dataframe thead th {\n",
       "        text-align: right;\n",
       "    }\n",
       "</style>\n",
       "<table border=\"1\" class=\"dataframe\">\n",
       "  <thead>\n",
       "    <tr style=\"text-align: right;\">\n",
       "      <th></th>\n",
       "      <th>date</th>\n",
       "      <th>symbol</th>\n",
       "      <th>open</th>\n",
       "      <th>high</th>\n",
       "      <th>low</th>\n",
       "      <th>close</th>\n",
       "      <th>Volume BTC</th>\n",
       "      <th>Volume USD</th>\n",
       "    </tr>\n",
       "  </thead>\n",
       "  <tbody>\n",
       "    <tr>\n",
       "      <th>0</th>\n",
       "      <td>2022-03-01</td>\n",
       "      <td>BTC/USD</td>\n",
       "      <td>43221.71</td>\n",
       "      <td>43626.49</td>\n",
       "      <td>43185.48</td>\n",
       "      <td>43185.48</td>\n",
       "      <td>49.006289</td>\n",
       "      <td>2.116360e+06</td>\n",
       "    </tr>\n",
       "    <tr>\n",
       "      <th>1</th>\n",
       "      <td>2022-02-28</td>\n",
       "      <td>BTC/USD</td>\n",
       "      <td>37717.10</td>\n",
       "      <td>44256.08</td>\n",
       "      <td>37468.99</td>\n",
       "      <td>43178.98</td>\n",
       "      <td>3160.618070</td>\n",
       "      <td>1.364723e+08</td>\n",
       "    </tr>\n",
       "    <tr>\n",
       "      <th>2</th>\n",
       "      <td>2022-02-27</td>\n",
       "      <td>BTC/USD</td>\n",
       "      <td>39146.66</td>\n",
       "      <td>39886.92</td>\n",
       "      <td>37015.74</td>\n",
       "      <td>37712.68</td>\n",
       "      <td>1701.817043</td>\n",
       "      <td>6.418008e+07</td>\n",
       "    </tr>\n",
       "    <tr>\n",
       "      <th>3</th>\n",
       "      <td>2022-02-26</td>\n",
       "      <td>BTC/USD</td>\n",
       "      <td>39242.64</td>\n",
       "      <td>40330.99</td>\n",
       "      <td>38600.00</td>\n",
       "      <td>39146.66</td>\n",
       "      <td>912.724087</td>\n",
       "      <td>3.573010e+07</td>\n",
       "    </tr>\n",
       "    <tr>\n",
       "      <th>4</th>\n",
       "      <td>2022-02-25</td>\n",
       "      <td>BTC/USD</td>\n",
       "      <td>38360.93</td>\n",
       "      <td>39727.97</td>\n",
       "      <td>38027.61</td>\n",
       "      <td>39231.64</td>\n",
       "      <td>2202.851827</td>\n",
       "      <td>8.642149e+07</td>\n",
       "    </tr>\n",
       "  </tbody>\n",
       "</table>\n",
       "</div>"
      ],
      "text/plain": [
       "         date   symbol      open      high       low     close   Volume BTC  \\\n",
       "0  2022-03-01  BTC/USD  43221.71  43626.49  43185.48  43185.48    49.006289   \n",
       "1  2022-02-28  BTC/USD  37717.10  44256.08  37468.99  43178.98  3160.618070   \n",
       "2  2022-02-27  BTC/USD  39146.66  39886.92  37015.74  37712.68  1701.817043   \n",
       "3  2022-02-26  BTC/USD  39242.64  40330.99  38600.00  39146.66   912.724087   \n",
       "4  2022-02-25  BTC/USD  38360.93  39727.97  38027.61  39231.64  2202.851827   \n",
       "\n",
       "     Volume USD  \n",
       "0  2.116360e+06  \n",
       "1  1.364723e+08  \n",
       "2  6.418008e+07  \n",
       "3  3.573010e+07  \n",
       "4  8.642149e+07  "
      ]
     },
     "execution_count": 22,
     "metadata": {},
     "output_type": "execute_result"
    }
   ],
   "source": [
    "print(btc_price_action['date'].dtype)  # This should ideally be 'object' indicating string\n",
    "\n",
    "# Convert the column to datetime\n",
    "btc_price_action['date'] = pd.to_datetime(btc_price_action['date'])\n",
    "\n",
    "# Now, you can use .dt accessor\n",
    "btc_price_action['date'] = btc_price_action['date'].dt.date\n",
    "\n",
    "btc_price_action.drop(columns=['unix'], inplace=True)\n",
    "\n",
    "btc_price_action.head()"
   ]
  },
  {
   "cell_type": "code",
   "execution_count": 19,
   "metadata": {},
   "outputs": [
    {
     "data": {
      "text/plain": [
       "(datetime.date(2021, 2, 5), datetime.date(2021, 8, 21))"
      ]
     },
     "execution_count": 19,
     "metadata": {},
     "output_type": "execute_result"
    }
   ],
   "source": [
    "daily_sentiment['date'].min(), daily_sentiment['date'].max()"
   ]
  },
  {
   "cell_type": "code",
   "execution_count": 20,
   "metadata": {},
   "outputs": [
    {
     "data": {
      "text/plain": [
       "(datetime.date(2014, 11, 28), datetime.date(2022, 3, 1))"
      ]
     },
     "execution_count": 20,
     "metadata": {},
     "output_type": "execute_result"
    }
   ],
   "source": [
    "btc_price_action['date'].min(), btc_price_action['date'].max()"
   ]
  },
  {
   "cell_type": "code",
   "execution_count": 27,
   "metadata": {},
   "outputs": [
    {
     "data": {
      "text/html": [
       "<div>\n",
       "<style scoped>\n",
       "    .dataframe tbody tr th:only-of-type {\n",
       "        vertical-align: middle;\n",
       "    }\n",
       "\n",
       "    .dataframe tbody tr th {\n",
       "        vertical-align: top;\n",
       "    }\n",
       "\n",
       "    .dataframe thead th {\n",
       "        text-align: right;\n",
       "    }\n",
       "</style>\n",
       "<table border=\"1\" class=\"dataframe\">\n",
       "  <thead>\n",
       "    <tr style=\"text-align: right;\">\n",
       "      <th></th>\n",
       "      <th>date</th>\n",
       "      <th>0</th>\n",
       "      <th>1</th>\n",
       "      <th>tweet_volume</th>\n",
       "      <th>symbol</th>\n",
       "      <th>open</th>\n",
       "      <th>high</th>\n",
       "      <th>low</th>\n",
       "      <th>close</th>\n",
       "      <th>Volume BTC</th>\n",
       "      <th>Volume USD</th>\n",
       "    </tr>\n",
       "  </thead>\n",
       "  <tbody>\n",
       "    <tr>\n",
       "      <th>0</th>\n",
       "      <td>2021-02-05</td>\n",
       "      <td>0.642007</td>\n",
       "      <td>0.357993</td>\n",
       "      <td>1694</td>\n",
       "      <td>BTC/USD</td>\n",
       "      <td>36984.28</td>\n",
       "      <td>38359.69</td>\n",
       "      <td>36618.36</td>\n",
       "      <td>38320.00</td>\n",
       "      <td>5211.974881</td>\n",
       "      <td>1.997229e+08</td>\n",
       "    </tr>\n",
       "    <tr>\n",
       "      <th>1</th>\n",
       "      <td>2021-02-06</td>\n",
       "      <td>0.640781</td>\n",
       "      <td>0.359219</td>\n",
       "      <td>3278</td>\n",
       "      <td>BTC/USD</td>\n",
       "      <td>38320.00</td>\n",
       "      <td>41025.48</td>\n",
       "      <td>38230.81</td>\n",
       "      <td>39282.10</td>\n",
       "      <td>8635.660207</td>\n",
       "      <td>3.392269e+08</td>\n",
       "    </tr>\n",
       "    <tr>\n",
       "      <th>2</th>\n",
       "      <td>2021-02-07</td>\n",
       "      <td>0.618344</td>\n",
       "      <td>0.381656</td>\n",
       "      <td>3029</td>\n",
       "      <td>BTC/USD</td>\n",
       "      <td>39274.80</td>\n",
       "      <td>39727.44</td>\n",
       "      <td>37412.93</td>\n",
       "      <td>38858.39</td>\n",
       "      <td>5973.240161</td>\n",
       "      <td>2.321105e+08</td>\n",
       "    </tr>\n",
       "    <tr>\n",
       "      <th>3</th>\n",
       "      <td>2021-02-08</td>\n",
       "      <td>0.620484</td>\n",
       "      <td>0.379516</td>\n",
       "      <td>5647</td>\n",
       "      <td>BTC/USD</td>\n",
       "      <td>38870.36</td>\n",
       "      <td>46712.12</td>\n",
       "      <td>38050.97</td>\n",
       "      <td>46416.45</td>\n",
       "      <td>19053.713436</td>\n",
       "      <td>8.844057e+08</td>\n",
       "    </tr>\n",
       "    <tr>\n",
       "      <th>4</th>\n",
       "      <td>2021-02-09</td>\n",
       "      <td>0.612988</td>\n",
       "      <td>0.387012</td>\n",
       "      <td>4350</td>\n",
       "      <td>BTC/USD</td>\n",
       "      <td>46445.51</td>\n",
       "      <td>48216.09</td>\n",
       "      <td>45000.00</td>\n",
       "      <td>46505.20</td>\n",
       "      <td>12505.082483</td>\n",
       "      <td>5.815514e+08</td>\n",
       "    </tr>\n",
       "  </tbody>\n",
       "</table>\n",
       "</div>"
      ],
      "text/plain": [
       "         date         0         1  tweet_volume   symbol      open      high  \\\n",
       "0  2021-02-05  0.642007  0.357993          1694  BTC/USD  36984.28  38359.69   \n",
       "1  2021-02-06  0.640781  0.359219          3278  BTC/USD  38320.00  41025.48   \n",
       "2  2021-02-07  0.618344  0.381656          3029  BTC/USD  39274.80  39727.44   \n",
       "3  2021-02-08  0.620484  0.379516          5647  BTC/USD  38870.36  46712.12   \n",
       "4  2021-02-09  0.612988  0.387012          4350  BTC/USD  46445.51  48216.09   \n",
       "\n",
       "        low     close    Volume BTC    Volume USD  \n",
       "0  36618.36  38320.00   5211.974881  1.997229e+08  \n",
       "1  38230.81  39282.10   8635.660207  3.392269e+08  \n",
       "2  37412.93  38858.39   5973.240161  2.321105e+08  \n",
       "3  38050.97  46416.45  19053.713436  8.844057e+08  \n",
       "4  45000.00  46505.20  12505.082483  5.815514e+08  "
      ]
     },
     "execution_count": 27,
     "metadata": {},
     "output_type": "execute_result"
    }
   ],
   "source": [
    "merged_df = pd.merge(daily_sentiment, btc_price_action, on='date', how='inner')\n",
    "merged_df.head()"
   ]
  },
  {
   "cell_type": "code",
   "execution_count": null,
   "metadata": {},
   "outputs": [],
   "source": [
    "merged_df.to_csv(\"final_data.csv\")"
   ]
  }
 ],
 "metadata": {
  "kernelspec": {
   "display_name": "natural-language-processing",
   "language": "python",
   "name": "python3"
  },
  "language_info": {
   "codemirror_mode": {
    "name": "ipython",
    "version": 3
   },
   "file_extension": ".py",
   "mimetype": "text/x-python",
   "name": "python",
   "nbconvert_exporter": "python",
   "pygments_lexer": "ipython3",
   "version": "3.10.9"
  }
 },
 "nbformat": 4,
 "nbformat_minor": 2
}
