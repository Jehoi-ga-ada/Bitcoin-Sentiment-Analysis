{
 "cells": [
  {
   "cell_type": "markdown",
   "metadata": {},
   "source": [
    "# **Import Initial Library, Data Preprocessing**"
   ]
  },
  {
   "cell_type": "code",
   "execution_count": 1,
   "metadata": {},
   "outputs": [],
   "source": [
    "import pandas as pd\n",
    "import numpy as np \n",
    "\n",
    "import re \n",
    "import datetime\n",
    "import string\n",
    "\n",
    "from nltk.corpus import stopwords, gutenberg\n",
    "from nltk.tokenize import RegexpTokenizer, TweetTokenizer\n",
    "from sklearn.feature_extraction.text import CountVectorizer\n",
    "\n",
    "np.random.seed(42)"
   ]
  },
  {
   "cell_type": "markdown",
   "metadata": {},
   "source": [
    "# **Import Data**"
   ]
  },
  {
   "cell_type": "code",
   "execution_count": 2,
   "metadata": {},
   "outputs": [
    {
     "name": "stderr",
     "output_type": "stream",
     "text": [
      "C:\\Users\\Jehoiada Wong\\AppData\\Local\\Temp\\ipykernel_14296\\1602624160.py:1: DtypeWarning: Columns (0,5,6,7,8,13) have mixed types. Specify dtype option on import or set low_memory=False.\n",
      "  data = pd.read_csv('bitcoin_tweets1000000.csv',\n"
     ]
    },
    {
     "data": {
      "text/html": [
       "<div>\n",
       "<style scoped>\n",
       "    .dataframe tbody tr th:only-of-type {\n",
       "        vertical-align: middle;\n",
       "    }\n",
       "\n",
       "    .dataframe tbody tr th {\n",
       "        vertical-align: top;\n",
       "    }\n",
       "\n",
       "    .dataframe thead th {\n",
       "        text-align: right;\n",
       "    }\n",
       "</style>\n",
       "<table border=\"1\" class=\"dataframe\">\n",
       "  <thead>\n",
       "    <tr style=\"text-align: right;\">\n",
       "      <th></th>\n",
       "      <th>user_name</th>\n",
       "      <th>user_location</th>\n",
       "      <th>user_description</th>\n",
       "      <th>user_created</th>\n",
       "      <th>user_followers</th>\n",
       "      <th>user_friends</th>\n",
       "      <th>user_favourites</th>\n",
       "      <th>user_verified</th>\n",
       "      <th>date</th>\n",
       "      <th>text</th>\n",
       "      <th>hashtags</th>\n",
       "      <th>source</th>\n",
       "      <th>is_retweet</th>\n",
       "      <th>cleanText</th>\n",
       "      <th>Polarity Score</th>\n",
       "      <th>sentiment</th>\n",
       "    </tr>\n",
       "  </thead>\n",
       "  <tbody>\n",
       "    <tr>\n",
       "      <th>0</th>\n",
       "      <td>DeSota Wilson</td>\n",
       "      <td>Atlanta, GA</td>\n",
       "      <td>Biz Consultant, real estate, fintech, startups...</td>\n",
       "      <td>2009-04-26 20:05:09</td>\n",
       "      <td>8534.0</td>\n",
       "      <td>7605</td>\n",
       "      <td>4838</td>\n",
       "      <td>False</td>\n",
       "      <td>2021-02-10 23:59:04</td>\n",
       "      <td>Blue Ridge Bank shares halted by NYSE after #b...</td>\n",
       "      <td>['bitcoin']</td>\n",
       "      <td>Twitter Web App</td>\n",
       "      <td>False</td>\n",
       "      <td>blue ridge bank shares halted nyse bitcoin atm...</td>\n",
       "      <td>0.00</td>\n",
       "      <td>0.0</td>\n",
       "    </tr>\n",
       "    <tr>\n",
       "      <th>1</th>\n",
       "      <td>CryptoND</td>\n",
       "      <td>NaN</td>\n",
       "      <td>ð BITCOINLIVE is a Dutch platform aimed at ...</td>\n",
       "      <td>2019-10-17 20:12:10</td>\n",
       "      <td>6769.0</td>\n",
       "      <td>1532</td>\n",
       "      <td>25483</td>\n",
       "      <td>False</td>\n",
       "      <td>2021-02-10 23:58:48</td>\n",
       "      <td>ð Today, that's this #Thursday, we will do ...</td>\n",
       "      <td>['Thursday', 'Btc', 'wallet', 'security']</td>\n",
       "      <td>Twitter for Android</td>\n",
       "      <td>False</td>\n",
       "      <td>today thursday take friend leowandersleb btc w...</td>\n",
       "      <td>0.00</td>\n",
       "      <td>0.0</td>\n",
       "    </tr>\n",
       "    <tr>\n",
       "      <th>2</th>\n",
       "      <td>Tdlmatias</td>\n",
       "      <td>London, England</td>\n",
       "      <td>IM Academy : The best #forex, #SelfEducation, ...</td>\n",
       "      <td>2014-11-10 10:50:37</td>\n",
       "      <td>128.0</td>\n",
       "      <td>332</td>\n",
       "      <td>924</td>\n",
       "      <td>False</td>\n",
       "      <td>2021-02-10 23:54:48</td>\n",
       "      <td>Guys evening, I have read this article about B...</td>\n",
       "      <td>NaN</td>\n",
       "      <td>Twitter Web App</td>\n",
       "      <td>False</td>\n",
       "      <td>guys evening read article btc would like share</td>\n",
       "      <td>0.00</td>\n",
       "      <td>0.0</td>\n",
       "    </tr>\n",
       "    <tr>\n",
       "      <th>3</th>\n",
       "      <td>Crypto is the future</td>\n",
       "      <td>NaN</td>\n",
       "      <td>I will post a lot of buying signals for BTC tr...</td>\n",
       "      <td>2019-09-28 16:48:12</td>\n",
       "      <td>625.0</td>\n",
       "      <td>129</td>\n",
       "      <td>14</td>\n",
       "      <td>False</td>\n",
       "      <td>2021-02-10 23:54:33</td>\n",
       "      <td>$BTC A big chance in a billion! Price: \\487264...</td>\n",
       "      <td>['Bitcoin', 'FX', 'BTC', 'crypto']</td>\n",
       "      <td>dlvr.it</td>\n",
       "      <td>False</td>\n",
       "      <td>btc big chance billion price bitcoin btc crypto</td>\n",
       "      <td>0.00</td>\n",
       "      <td>0.0</td>\n",
       "    </tr>\n",
       "    <tr>\n",
       "      <th>4</th>\n",
       "      <td>Alex Kirchmaier ð¦ð¹ð¸ðª #FactsSupersp...</td>\n",
       "      <td>Europa</td>\n",
       "      <td>Co-founder @RENJERJerky | Forbes 30Under30 | I...</td>\n",
       "      <td>2016-02-03 13:15:55</td>\n",
       "      <td>1249.0</td>\n",
       "      <td>1472</td>\n",
       "      <td>10482</td>\n",
       "      <td>False</td>\n",
       "      <td>2021-02-10 23:54:06</td>\n",
       "      <td>This network is secured by 9 508 nodes as of t...</td>\n",
       "      <td>['BTC']</td>\n",
       "      <td>Twitter Web App</td>\n",
       "      <td>False</td>\n",
       "      <td>network secured nodes today soon biggest bears...</td>\n",
       "      <td>-0.25</td>\n",
       "      <td>0.0</td>\n",
       "    </tr>\n",
       "  </tbody>\n",
       "</table>\n",
       "</div>"
      ],
      "text/plain": [
       "                                           user_name    user_location  \\\n",
       "0                                      DeSota Wilson      Atlanta, GA   \n",
       "1                                           CryptoND              NaN   \n",
       "2                                          Tdlmatias  London, England   \n",
       "3                               Crypto is the future              NaN   \n",
       "4  Alex Kirchmaier ð¦ð¹ð¸ðª #FactsSupersp...           Europa   \n",
       "\n",
       "                                    user_description         user_created  \\\n",
       "0  Biz Consultant, real estate, fintech, startups...  2009-04-26 20:05:09   \n",
       "1  ð BITCOINLIVE is a Dutch platform aimed at ...  2019-10-17 20:12:10   \n",
       "2  IM Academy : The best #forex, #SelfEducation, ...  2014-11-10 10:50:37   \n",
       "3  I will post a lot of buying signals for BTC tr...  2019-09-28 16:48:12   \n",
       "4  Co-founder @RENJERJerky | Forbes 30Under30 | I...  2016-02-03 13:15:55   \n",
       "\n",
       "  user_followers user_friends user_favourites user_verified  \\\n",
       "0         8534.0         7605            4838         False   \n",
       "1         6769.0         1532           25483         False   \n",
       "2          128.0          332             924         False   \n",
       "3          625.0          129              14         False   \n",
       "4         1249.0         1472           10482         False   \n",
       "\n",
       "                  date                                               text  \\\n",
       "0  2021-02-10 23:59:04  Blue Ridge Bank shares halted by NYSE after #b...   \n",
       "1  2021-02-10 23:58:48  ð Today, that's this #Thursday, we will do ...   \n",
       "2  2021-02-10 23:54:48  Guys evening, I have read this article about B...   \n",
       "3  2021-02-10 23:54:33  $BTC A big chance in a billion! Price: \\487264...   \n",
       "4  2021-02-10 23:54:06  This network is secured by 9 508 nodes as of t...   \n",
       "\n",
       "                                    hashtags               source is_retweet  \\\n",
       "0                                ['bitcoin']      Twitter Web App      False   \n",
       "1  ['Thursday', 'Btc', 'wallet', 'security']  Twitter for Android      False   \n",
       "2                                        NaN      Twitter Web App      False   \n",
       "3         ['Bitcoin', 'FX', 'BTC', 'crypto']              dlvr.it      False   \n",
       "4                                    ['BTC']      Twitter Web App      False   \n",
       "\n",
       "                                           cleanText  Polarity Score  \\\n",
       "0  blue ridge bank shares halted nyse bitcoin atm...            0.00   \n",
       "1  today thursday take friend leowandersleb btc w...            0.00   \n",
       "2     guys evening read article btc would like share            0.00   \n",
       "3    btc big chance billion price bitcoin btc crypto            0.00   \n",
       "4  network secured nodes today soon biggest bears...           -0.25   \n",
       "\n",
       "   sentiment  \n",
       "0        0.0  \n",
       "1        0.0  \n",
       "2        0.0  \n",
       "3        0.0  \n",
       "4        0.0  "
      ]
     },
     "execution_count": 2,
     "metadata": {},
     "output_type": "execute_result"
    }
   ],
   "source": [
    "data = pd.read_csv('bitcoin_tweets1000000.csv',\n",
    "                   encoding='ISO-8859-1',\n",
    "                   index_col=[0])\n",
    "data.head()"
   ]
  },
  {
   "cell_type": "markdown",
   "metadata": {},
   "source": [
    "# **Preprocessing Flow Diagram**"
   ]
  },
  {
   "attachments": {
    "Data Preprocessing Flow.png": {
     "image/png": "[encoded data removed]"
    }
   },
   "cell_type": "markdown",
   "metadata": {},
   "source": [
    "![Data Preprocessing Flow.png](<attachment:Data Preprocessing Flow.png>)"
   ]
  },
  {
   "cell_type": "markdown",
   "metadata": {},
   "source": [
    "# **1. Data Inspecting**"
   ]
  },
  {
   "cell_type": "code",
   "execution_count": 3,
   "metadata": {},
   "outputs": [
    {
     "name": "stdout",
     "output_type": "stream",
     "text": [
      "<class 'pandas.core.frame.DataFrame'>\n",
      "Index: 1000025 entries, 0 to 999999\n",
      "Data columns (total 16 columns):\n",
      " #   Column            Non-Null Count    Dtype  \n",
      "---  ------            --------------    -----  \n",
      " 0   user_name         999980 non-null   object \n",
      " 1   user_location     536636 non-null   object \n",
      " 2   user_description  889225 non-null   object \n",
      " 3   user_created      1000000 non-null  object \n",
      " 4   user_followers    1000000 non-null  object \n",
      " 5   user_friends      1000000 non-null  object \n",
      " 6   user_favourites   999997 non-null   object \n",
      " 7   user_verified     999996 non-null   object \n",
      " 8   date              999995 non-null   object \n",
      " 9   text              999993 non-null   object \n",
      " 10  hashtags          983199 non-null   object \n",
      " 11  source            996633 non-null   object \n",
      " 12  is_retweet        999946 non-null   object \n",
      " 13  cleanText         999987 non-null   object \n",
      " 14  Polarity Score    999988 non-null   float64\n",
      " 15  sentiment         999986 non-null   float64\n",
      "dtypes: float64(2), object(14)\n",
      "memory usage: 129.7+ MB\n"
     ]
    }
   ],
   "source": [
    "data.info()"
   ]
  },
  {
   "cell_type": "code",
   "execution_count": 4,
   "metadata": {},
   "outputs": [
    {
     "name": "stdout",
     "output_type": "stream",
     "text": [
      "Dataframe has 1000025 rows and 16 columns\n"
     ]
    }
   ],
   "source": [
    "print(f'Dataframe has {data.shape[0]} rows and {data.shape[1]} columns')"
   ]
  },
  {
   "cell_type": "markdown",
   "metadata": {},
   "source": [
    "# **2. Checking if the data is balanced**"
   ]
  },
  {
   "cell_type": "code",
   "execution_count": 5,
   "metadata": {},
   "outputs": [
    {
     "data": {
      "text/plain": [
       "sentiment\n",
       "0.0    0.527057\n",
       "1.0    0.472943\n",
       "Name: proportion, dtype: float64"
      ]
     },
     "execution_count": 5,
     "metadata": {},
     "output_type": "execute_result"
    }
   ],
   "source": [
    "data['sentiment'].value_counts(normalize=True)"
   ]
  },
  {
   "cell_type": "markdown",
   "metadata": {},
   "source": [
    "The value counts above indicates 53% negative and 47% positive, this dataset is balanced enough"
   ]
  },
  {
   "cell_type": "code",
   "execution_count": 6,
   "metadata": {},
   "outputs": [
    {
     "data": {
      "text/html": [
       "<div>\n",
       "<style scoped>\n",
       "    .dataframe tbody tr th:only-of-type {\n",
       "        vertical-align: middle;\n",
       "    }\n",
       "\n",
       "    .dataframe tbody tr th {\n",
       "        vertical-align: top;\n",
       "    }\n",
       "\n",
       "    .dataframe thead th {\n",
       "        text-align: right;\n",
       "    }\n",
       "</style>\n",
       "<table border=\"1\" class=\"dataframe\">\n",
       "  <thead>\n",
       "    <tr style=\"text-align: right;\">\n",
       "      <th></th>\n",
       "      <th>Polarity Score</th>\n",
       "      <th>sentiment</th>\n",
       "    </tr>\n",
       "  </thead>\n",
       "  <tbody>\n",
       "    <tr>\n",
       "      <th>count</th>\n",
       "      <td>999988.000000</td>\n",
       "      <td>999986.000000</td>\n",
       "    </tr>\n",
       "    <tr>\n",
       "      <th>mean</th>\n",
       "      <td>0.144692</td>\n",
       "      <td>0.472943</td>\n",
       "    </tr>\n",
       "    <tr>\n",
       "      <th>std</th>\n",
       "      <td>0.271044</td>\n",
       "      <td>0.499268</td>\n",
       "    </tr>\n",
       "    <tr>\n",
       "      <th>min</th>\n",
       "      <td>-1.000000</td>\n",
       "      <td>0.000000</td>\n",
       "    </tr>\n",
       "    <tr>\n",
       "      <th>25%</th>\n",
       "      <td>0.000000</td>\n",
       "      <td>0.000000</td>\n",
       "    </tr>\n",
       "    <tr>\n",
       "      <th>50%</th>\n",
       "      <td>0.000000</td>\n",
       "      <td>0.000000</td>\n",
       "    </tr>\n",
       "    <tr>\n",
       "      <th>75%</th>\n",
       "      <td>0.286508</td>\n",
       "      <td>1.000000</td>\n",
       "    </tr>\n",
       "    <tr>\n",
       "      <th>max</th>\n",
       "      <td>1.000000</td>\n",
       "      <td>1.000000</td>\n",
       "    </tr>\n",
       "  </tbody>\n",
       "</table>\n",
       "</div>"
      ],
      "text/plain": [
       "       Polarity Score      sentiment\n",
       "count   999988.000000  999986.000000\n",
       "mean         0.144692       0.472943\n",
       "std          0.271044       0.499268\n",
       "min         -1.000000       0.000000\n",
       "25%          0.000000       0.000000\n",
       "50%          0.000000       0.000000\n",
       "75%          0.286508       1.000000\n",
       "max          1.000000       1.000000"
      ]
     },
     "execution_count": 6,
     "metadata": {},
     "output_type": "execute_result"
    }
   ],
   "source": [
    "data.describe()"
   ]
  },
  {
   "cell_type": "markdown",
   "metadata": {},
   "source": [
    "#### Counting missing values for each columns"
   ]
  },
  {
   "cell_type": "code",
   "execution_count": 7,
   "metadata": {},
   "outputs": [
    {
     "data": {
      "text/plain": [
       "user_name               45\n",
       "user_location       463389\n",
       "user_description    110800\n",
       "user_created            25\n",
       "user_followers          25\n",
       "user_friends            25\n",
       "user_favourites         28\n",
       "user_verified           29\n",
       "date                    30\n",
       "text                    32\n",
       "hashtags             16826\n",
       "source                3392\n",
       "is_retweet              79\n",
       "cleanText               38\n",
       "Polarity Score          37\n",
       "sentiment               39\n",
       "dtype: int64"
      ]
     },
     "execution_count": 7,
     "metadata": {},
     "output_type": "execute_result"
    }
   ],
   "source": [
    "data.isna().sum()"
   ]
  },
  {
   "cell_type": "markdown",
   "metadata": {},
   "source": [
    "# *Data Cleaning*"
   ]
  },
  {
   "cell_type": "markdown",
   "metadata": {},
   "source": [
    "#### Checkpoint 1"
   ]
  },
  {
   "cell_type": "code",
   "execution_count": 8,
   "metadata": {},
   "outputs": [],
   "source": [
    "df = data.copy()"
   ]
  },
  {
   "cell_type": "markdown",
   "metadata": {},
   "source": [
    "# **3. Dropping irrelevant columns**"
   ]
  },
  {
   "cell_type": "code",
   "execution_count": 9,
   "metadata": {},
   "outputs": [],
   "source": [
    "df = df.drop(['user_created',\n",
    "               'cleanText', \n",
    "               'user_location',\n",
    "               'user_description'],\n",
    "               axis=1)"
   ]
  },
  {
   "cell_type": "markdown",
   "metadata": {},
   "source": [
    "# **4. Handling Missing Values**"
   ]
  },
  {
   "cell_type": "code",
   "execution_count": 10,
   "metadata": {},
   "outputs": [
    {
     "name": "stdout",
     "output_type": "stream",
     "text": [
      "Dataframe has 999986 rows and 12 columns\n"
     ]
    },
    {
     "data": {
      "text/plain": [
       "user_name             20\n",
       "user_followers         0\n",
       "user_friends           0\n",
       "user_favourites        0\n",
       "user_verified          0\n",
       "date                   0\n",
       "text                   0\n",
       "hashtags           16792\n",
       "source              3357\n",
       "is_retweet            43\n",
       "Polarity Score         0\n",
       "sentiment              0\n",
       "dtype: int64"
      ]
     },
     "execution_count": 10,
     "metadata": {},
     "output_type": "execute_result"
    }
   ],
   "source": [
    "df = df.dropna(subset=['text',\n",
    "                       'date',\n",
    "                       'sentiment'])\n",
    "print(f'Dataframe has {df.shape[0]} rows and {df.shape[1]} columns')\n",
    "df.isna().sum()"
   ]
  },
  {
   "cell_type": "markdown",
   "metadata": {},
   "source": [
    "# **5. Cleaning non-dates values in 'date' column**"
   ]
  },
  {
   "cell_type": "markdown",
   "metadata": {},
   "source": [
    "It seems like we have non-dates going into the `date` column, we will have to clean the non-dates values"
   ]
  },
  {
   "cell_type": "code",
   "execution_count": 12,
   "metadata": {},
   "outputs": [
    {
     "data": {
      "text/html": [
       "<div>\n",
       "<style scoped>\n",
       "    .dataframe tbody tr th:only-of-type {\n",
       "        vertical-align: middle;\n",
       "    }\n",
       "\n",
       "    .dataframe tbody tr th {\n",
       "        vertical-align: top;\n",
       "    }\n",
       "\n",
       "    .dataframe thead th {\n",
       "        text-align: right;\n",
       "    }\n",
       "</style>\n",
       "<table border=\"1\" class=\"dataframe\">\n",
       "  <thead>\n",
       "    <tr style=\"text-align: right;\">\n",
       "      <th></th>\n",
       "      <th>user_name</th>\n",
       "      <th>user_followers</th>\n",
       "      <th>user_friends</th>\n",
       "      <th>user_favourites</th>\n",
       "      <th>user_verified</th>\n",
       "      <th>date</th>\n",
       "      <th>text</th>\n",
       "      <th>hashtags</th>\n",
       "      <th>source</th>\n",
       "      <th>is_retweet</th>\n",
       "      <th>Polarity Score</th>\n",
       "      <th>sentiment</th>\n",
       "    </tr>\n",
       "  </thead>\n",
       "  <tbody>\n",
       "    <tr>\n",
       "      <th>64943</th>\n",
       "      <td>Can roam the worldï¼It's nine to five againáµ...</td>\n",
       "      <td>36.0</td>\n",
       "      <td>False</td>\n",
       "      <td>2021-04-07 16:23:03</td>\n",
       "      <td>@krakenfx  #ETH #BTC  If you want to become po...</td>\n",
       "      <td>['ETH', 'BTC', 'Bitcoin']</td>\n",
       "      <td>Twitter Web App</td>\n",
       "      <td>False</td>\n",
       "      <td>NaN</td>\n",
       "      <td>NaN</td>\n",
       "      <td>0.0</td>\n",
       "      <td>0.0</td>\n",
       "    </tr>\n",
       "    <tr>\n",
       "      <th>137068</th>\n",
       "      <td>*Muhammad Yasir* hello stalker nice to tweet ...</td>\n",
       "      <td>499.0</td>\n",
       "      <td>False</td>\n",
       "      <td>2021-06-23 14:51:12</td>\n",
       "      <td>Official ESHOP Airdrop. If You Missed Meme Tok...</td>\n",
       "      <td>['cryptocurrency', 'BSC', 'Bitcoin', 'Ethereum...</td>\n",
       "      <td>Twitter for Android</td>\n",
       "      <td>False</td>\n",
       "      <td>NaN</td>\n",
       "      <td>NaN</td>\n",
       "      <td>0.0</td>\n",
       "      <td>0.0</td>\n",
       "    </tr>\n",
       "    <tr>\n",
       "      <th>180575</th>\n",
       "      <td>â¢ Learn n To Do d'Best...!!!!!!!!</td>\n",
       "      <td>127.0</td>\n",
       "      <td>False</td>\n",
       "      <td>2021-06-22 13:31:16</td>\n",
       "      <td>@pufferswap Nice project\\n\\n@karnoto_hendrik \\...</td>\n",
       "      <td>['YieldFarming', 'Airdrop', 'Binance', 'Bitcoi...</td>\n",
       "      <td>Twitter Web App</td>\n",
       "      <td>False</td>\n",
       "      <td>NaN</td>\n",
       "      <td>NaN</td>\n",
       "      <td>0.0</td>\n",
       "      <td>0.0</td>\n",
       "    </tr>\n",
       "    <tr>\n",
       "      <th>693194</th>\n",
       "      <td>FB- Xiomara CastaÃ±eda</td>\n",
       "      <td>531.0</td>\n",
       "      <td>False</td>\n",
       "      <td>2021-07-26 11:54:15</td>\n",
       "      <td>#btc to the moon ðð 77774</td>\n",
       "      <td>['btc']</td>\n",
       "      <td>Twitter Web App</td>\n",
       "      <td>False</td>\n",
       "      <td>NaN</td>\n",
       "      <td>NaN</td>\n",
       "      <td>0.0</td>\n",
       "      <td>0.0</td>\n",
       "    </tr>\n",
       "    <tr>\n",
       "      <th>697397</th>\n",
       "      <td>Pin bb : 26ea62f8 . Line : baliratih_bali</td>\n",
       "      <td>21.0</td>\n",
       "      <td>False</td>\n",
       "      <td>2021-07-26 11:48:46</td>\n",
       "      <td>#btc to the moon ðð 46059</td>\n",
       "      <td>['btc']</td>\n",
       "      <td>Twitter Web App</td>\n",
       "      <td>False</td>\n",
       "      <td>NaN</td>\n",
       "      <td>NaN</td>\n",
       "      <td>0.0</td>\n",
       "      <td>0.0</td>\n",
       "    </tr>\n",
       "  </tbody>\n",
       "</table>\n",
       "</div>"
      ],
      "text/plain": [
       "                                                user_name user_followers  \\\n",
       "64943   Can roam the worldï¼It's nine to five againáµ...           36.0   \n",
       "137068   *Muhammad Yasir* hello stalker nice to tweet ...          499.0   \n",
       "180575                â¢ Learn n To Do d'Best...!!!!!!!!          127.0   \n",
       "693194                             FB- Xiomara CastaÃ±eda          531.0   \n",
       "697397          Pin bb : 26ea62f8 . Line : baliratih_bali           21.0   \n",
       "\n",
       "       user_friends      user_favourites  \\\n",
       "64943         False  2021-04-07 16:23:03   \n",
       "137068        False  2021-06-23 14:51:12   \n",
       "180575        False  2021-06-22 13:31:16   \n",
       "693194        False  2021-07-26 11:54:15   \n",
       "697397        False  2021-07-26 11:48:46   \n",
       "\n",
       "                                            user_verified  \\\n",
       "64943   @krakenfx  #ETH #BTC  If you want to become po...   \n",
       "137068  Official ESHOP Airdrop. If You Missed Meme Tok...   \n",
       "180575  @pufferswap Nice project\\n\\n@karnoto_hendrik \\...   \n",
       "693194                    #btc to the moon ðð 77774   \n",
       "697397                    #btc to the moon ðð 46059   \n",
       "\n",
       "                                                     date  \\\n",
       "64943                           ['ETH', 'BTC', 'Bitcoin']   \n",
       "137068  ['cryptocurrency', 'BSC', 'Bitcoin', 'Ethereum...   \n",
       "180575  ['YieldFarming', 'Airdrop', 'Binance', 'Bitcoi...   \n",
       "693194                                            ['btc']   \n",
       "697397                                            ['btc']   \n",
       "\n",
       "                       text hashtags source is_retweet  Polarity Score  \\\n",
       "64943       Twitter Web App    False    NaN        NaN             0.0   \n",
       "137068  Twitter for Android    False    NaN        NaN             0.0   \n",
       "180575      Twitter Web App    False    NaN        NaN             0.0   \n",
       "693194      Twitter Web App    False    NaN        NaN             0.0   \n",
       "697397      Twitter Web App    False    NaN        NaN             0.0   \n",
       "\n",
       "        sentiment  \n",
       "64943         0.0  \n",
       "137068        0.0  \n",
       "180575        0.0  \n",
       "693194        0.0  \n",
       "697397        0.0  "
      ]
     },
     "execution_count": 12,
     "metadata": {},
     "output_type": "execute_result"
    }
   ],
   "source": [
    "df[df['date'].str.contains('ETH|BTC|Bitcoin|btc')]"
   ]
  },
  {
   "cell_type": "markdown",
   "metadata": {},
   "source": [
    "Dropping rows where contains non-dates"
   ]
  },
  {
   "cell_type": "code",
   "execution_count": 13,
   "metadata": {},
   "outputs": [],
   "source": [
    "df = df[~df['date'].str.contains('ETH|BTC|Bitcoin|btc')].reset_index(drop=True)"
   ]
  },
  {
   "cell_type": "markdown",
   "metadata": {},
   "source": [
    "Transforming text-date into date format"
   ]
  },
  {
   "cell_type": "code",
   "execution_count": 14,
   "metadata": {},
   "outputs": [],
   "source": [
    "df['date'] = [datetime.datetime.strptime(date, '%Y-%m-%d %H:%M:%S') for date in df['date']]\n",
    "df['date'] = pd.to_datetime(df['date']).dt.date"
   ]
  },
  {
   "cell_type": "code",
   "execution_count": 15,
   "metadata": {},
   "outputs": [
    {
     "data": {
      "text/plain": [
       "(datetime.date(2021, 2, 5), datetime.date(2021, 8, 21))"
      ]
     },
     "execution_count": 15,
     "metadata": {},
     "output_type": "execute_result"
    }
   ],
   "source": [
    "df['date'].min(), df['date'].max()"
   ]
  },
  {
   "cell_type": "markdown",
   "metadata": {},
   "source": [
    "### Checkpoint 2"
   ]
  },
  {
   "cell_type": "code",
   "execution_count": 16,
   "metadata": {},
   "outputs": [],
   "source": [
    "df_datetime_transformed = df.copy()"
   ]
  },
  {
   "cell_type": "code",
   "execution_count": 17,
   "metadata": {},
   "outputs": [
    {
     "data": {
      "text/plain": [
       "228484    n/a\n",
       "240487    n/a\n",
       "316612    n/a\n",
       "378314    n/a\n",
       "398478    n/a\n",
       "398690    n/a\n",
       "398713    n/a\n",
       "398735    n/a\n",
       "398746    n/a\n",
       "398757    n/a\n",
       "398768    n/a\n",
       "398781    n/a\n",
       "419329    n/a\n",
       "580673    n/a\n",
       "583956    n/a\n",
       "588615    n/a\n",
       "594250    n/a\n",
       "622707    n/a\n",
       "630074    n/a\n",
       "633036    n/a\n",
       "635732    n/a\n",
       "636715    n/a\n",
       "643985    n/a\n",
       "651471    n/a\n",
       "651768    n/a\n",
       "677568    n/a\n",
       "678698    n/a\n",
       "679892    n/a\n",
       "683595    n/a\n",
       "703619    n/a\n",
       "718112    n/a\n",
       "737915    n/a\n",
       "738139    n/a\n",
       "808565    n/a\n",
       "813973    n/a\n",
       "864605    n/a\n",
       "870423    n/a\n",
       "875886    n/a\n",
       "Name: is_retweet, dtype: object"
      ]
     },
     "execution_count": 17,
     "metadata": {},
     "output_type": "execute_result"
    }
   ],
   "source": [
    "df_datetime_transformed['is_retweet']\\\n",
    "    .fillna(value='n/a', inplace=True)\n",
    "df_datetime_transformed['is_retweet']\\\n",
    "    [df_datetime_transformed['is_retweet']=='n/a']"
   ]
  },
  {
   "cell_type": "markdown",
   "metadata": {},
   "source": [
    "Making sure we filled the right rows"
   ]
  },
  {
   "cell_type": "code",
   "execution_count": 18,
   "metadata": {},
   "outputs": [
    {
     "data": {
      "text/plain": [
       "38"
      ]
     },
     "execution_count": 18,
     "metadata": {},
     "output_type": "execute_result"
    }
   ],
   "source": [
    "len(df_datetime_transformed['is_retweet']\\\n",
    "    [df_datetime_transformed['is_retweet']=='n/a'])"
   ]
  },
  {
   "cell_type": "code",
   "execution_count": 19,
   "metadata": {},
   "outputs": [
    {
     "data": {
      "text/plain": [
       "38"
      ]
     },
     "execution_count": 19,
     "metadata": {},
     "output_type": "execute_result"
    }
   ],
   "source": [
    "len(df['is_retweet'].isna()\\\n",
    "    [df['is_retweet'].isna()==True])"
   ]
  },
  {
   "cell_type": "markdown",
   "metadata": {},
   "source": [
    "### Checkpoint 3"
   ]
  },
  {
   "cell_type": "code",
   "execution_count": 20,
   "metadata": {},
   "outputs": [],
   "source": [
    "df_c3 = df_datetime_transformed.copy()"
   ]
  },
  {
   "cell_type": "markdown",
   "metadata": {},
   "source": [
    "# **6. Clean noise values using REGEX**"
   ]
  },
  {
   "cell_type": "code",
   "execution_count": 21,
   "metadata": {},
   "outputs": [
    {
     "name": "stdout",
     "output_type": "stream",
     "text": [
      "<class 'pandas.core.frame.DataFrame'>\n",
      "RangeIndex: 999981 entries, 0 to 999980\n",
      "Data columns (total 4 columns):\n",
      " #   Column      Non-Null Count   Dtype  \n",
      "---  ------      --------------   -----  \n",
      " 0   date        999981 non-null  object \n",
      " 1   text        999981 non-null  object \n",
      " 2   is_retweet  999981 non-null  object \n",
      " 3   sentiment   999981 non-null  float64\n",
      "dtypes: float64(1), object(3)\n",
      "memory usage: 30.5+ MB\n"
     ]
    }
   ],
   "source": [
    "text_df = df_c3[['date', 'text', 'is_retweet','sentiment']]\n",
    "text_df.info()"
   ]
  },
  {
   "cell_type": "code",
   "execution_count": 22,
   "metadata": {},
   "outputs": [
    {
     "data": {
      "text/plain": [
       "'ð\\x9f\\x98\\x8e Today, that\\'s this #Thursday, we will do a \"ð\\x9f\\x8e¬ Take 2\" with our friend @LeoWandersleb, #Btc #wallet #security expeâ\\x80¦ https://t.co/go6aDgRml5'"
      ]
     },
     "execution_count": 22,
     "metadata": {},
     "output_type": "execute_result"
    }
   ],
   "source": [
    "text_df['text'][1]"
   ]
  },
  {
   "cell_type": "markdown",
   "metadata": {},
   "source": [
    "We will handle these text using regex"
   ]
  },
  {
   "cell_type": "markdown",
   "metadata": {},
   "source": [
    "Ther is a lot of noise in the data so we will have to clean them for examples urls and Twitter handles"
   ]
  },
  {
   "cell_type": "code",
   "execution_count": 23,
   "metadata": {},
   "outputs": [
    {
     "name": "stdout",
     "output_type": "stream",
     "text": [
      "[('https', 't.co', '/xaaZmaJKiV'), ('https', 't.co', '/sgBxMkP1SI')]\n",
      "[('https', 't.co/xaaZmaJK'), ('https', 't.co/sgBxMkP1')]\n",
      "['https://t.co/xaaZmaJK', 'https://t.co/sgBxMkP1']\n",
      "['Blue', 'Ridge', 'Bank', 'shares', 'halted', 'by', 'NYSE', 'after', 'bitcoin', 'ATM', 'announcement', 'https', 't', 'co', 'xaaZmaJKiV', 'MyBlueRidgeBank', 'https', 't', 'co', 'sgBxMkP', 'SI']\n"
     ]
    }
   ],
   "source": [
    "#url pattern we want to remove\n",
    "pattern = \"(http|ftp|https):\\/\\/([\\w_-]+(?:(?:\\.[\\w_-]+)+))([\\w.,@?^=%&:\\/~+#-]*[\\w@?^=%&\\/~+#-])\"\n",
    "print(re.findall(pattern, text_df['text'][0]))\n",
    "\n",
    "pattern = \"(http|ftp|https):\\/\\/(t.co\\/[a-zA-Z0-9\\-\\.]{8})\"\n",
    "print(re.findall(pattern, text_df['text'][0]))\n",
    "\n",
    "pattern = \"https:\\/\\/t.co\\/[a-zA-Z0-9\\-\\.]{8}\"\n",
    "print(re.findall(pattern, text_df['text'][0]))\n",
    "\n",
    "# apostrophe pattern\n",
    "pattern = \"([a-zA-Z]+(?:'[a-z]+)?)\"\n",
    "print(re.findall(pattern, text_df['text'][0]))"
   ]
  },
  {
   "cell_type": "markdown",
   "metadata": {},
   "source": [
    "## Removing urls"
   ]
  },
  {
   "cell_type": "code",
   "execution_count": 24,
   "metadata": {},
   "outputs": [
    {
     "name": "stdout",
     "output_type": "stream",
     "text": [
      "ð Today, that's this #Thursday, we will do a \"ð¬ Take 2\" with our friend @LeoWandersleb, #Btc #wallet #security expeâ¦ l5\n"
     ]
    }
   ],
   "source": [
    "https_pattern = r\"https:\\/\\/t.co\\/[a-zA-Z0-9\\-\\.]{8}\"\n",
    "www_pattern = r\"www\\.[a-z]?\\.?(com)+|[a-z]+\\.(com)\"\n",
    "repl = \"\"\n",
    "\n",
    "text_df.loc[:, 'text'] = text_df['text']\\\n",
    "    .apply(lambda string: re.sub(https_pattern,\n",
    "                                 repl,\n",
    "                                 string,\n",
    "                                 count=0,\n",
    "                                 flags=0))\n",
    "text_df.loc[:, 'text'] = text_df['text']\\\n",
    "    .apply(lambda string: re.sub(www_pattern,\n",
    "                                 repl,\n",
    "                                 string,\n",
    "                                 count=0, \n",
    "                                 flags=0))\n",
    "\n",
    "print(text_df['text'][1])"
   ]
  },
  {
   "cell_type": "markdown",
   "metadata": {},
   "source": [
    "## Removing Twitter Handles"
   ]
  },
  {
   "cell_type": "code",
   "execution_count": 25,
   "metadata": {},
   "outputs": [],
   "source": [
    "handle_pattern = r\"@[A-Za-z0-9]+\"\n",
    "repl = \"\"\n",
    "\n",
    "text_df.loc[:, 'text'] = text_df['text']\\\n",
    "    .apply(lambda string: re.sub(handle_pattern,\n",
    "                                 repl, \n",
    "                                 string, \n",
    "                                 count=0, \n",
    "                                 flags=0))"
   ]
  },
  {
   "cell_type": "markdown",
   "metadata": {},
   "source": [
    "## Removing numbers"
   ]
  },
  {
   "cell_type": "code",
   "execution_count": 26,
   "metadata": {},
   "outputs": [],
   "source": [
    "num_pattern = r\"\\b\\d+\\b\"\n",
    "repl = \"\"\n",
    "\n",
    "text_df.loc[:, 'text'] = text_df['text']\\\n",
    "    .apply(lambda string: re.sub(num_pattern, \n",
    "                                 repl, \n",
    "                                 string, \n",
    "                                 count=0, \n",
    "                                 flags=0))"
   ]
  },
  {
   "cell_type": "code",
   "execution_count": 27,
   "metadata": {},
   "outputs": [
    {
     "data": {
      "text/html": [
       "<div>\n",
       "<style scoped>\n",
       "    .dataframe tbody tr th:only-of-type {\n",
       "        vertical-align: middle;\n",
       "    }\n",
       "\n",
       "    .dataframe tbody tr th {\n",
       "        vertical-align: top;\n",
       "    }\n",
       "\n",
       "    .dataframe thead th {\n",
       "        text-align: right;\n",
       "    }\n",
       "</style>\n",
       "<table border=\"1\" class=\"dataframe\">\n",
       "  <thead>\n",
       "    <tr style=\"text-align: right;\">\n",
       "      <th></th>\n",
       "      <th>date</th>\n",
       "      <th>text</th>\n",
       "      <th>is_retweet</th>\n",
       "      <th>sentiment</th>\n",
       "    </tr>\n",
       "  </thead>\n",
       "  <tbody>\n",
       "    <tr>\n",
       "      <th>0</th>\n",
       "      <td>2021-02-10</td>\n",
       "      <td>Blue Ridge Bank shares halted by NYSE after #b...</td>\n",
       "      <td>False</td>\n",
       "      <td>0.0</td>\n",
       "    </tr>\n",
       "    <tr>\n",
       "      <th>1</th>\n",
       "      <td>2021-02-10</td>\n",
       "      <td>ð Today, that's this #Thursday, we will do ...</td>\n",
       "      <td>False</td>\n",
       "      <td>0.0</td>\n",
       "    </tr>\n",
       "    <tr>\n",
       "      <th>2</th>\n",
       "      <td>2021-02-10</td>\n",
       "      <td>Guys evening, I have read this article about B...</td>\n",
       "      <td>False</td>\n",
       "      <td>0.0</td>\n",
       "    </tr>\n",
       "    <tr>\n",
       "      <th>3</th>\n",
       "      <td>2021-02-10</td>\n",
       "      <td>$BTC A big chance in a billion! Price: \\. (// ...</td>\n",
       "      <td>False</td>\n",
       "      <td>0.0</td>\n",
       "    </tr>\n",
       "    <tr>\n",
       "      <th>4</th>\n",
       "      <td>2021-02-10</td>\n",
       "      <td>This network is secured by   nodes as of today...</td>\n",
       "      <td>False</td>\n",
       "      <td>0.0</td>\n",
       "    </tr>\n",
       "  </tbody>\n",
       "</table>\n",
       "</div>"
      ],
      "text/plain": [
       "         date                                               text is_retweet  \\\n",
       "0  2021-02-10  Blue Ridge Bank shares halted by NYSE after #b...      False   \n",
       "1  2021-02-10  ð Today, that's this #Thursday, we will do ...      False   \n",
       "2  2021-02-10  Guys evening, I have read this article about B...      False   \n",
       "3  2021-02-10  $BTC A big chance in a billion! Price: \\. (// ...      False   \n",
       "4  2021-02-10  This network is secured by   nodes as of today...      False   \n",
       "\n",
       "   sentiment  \n",
       "0        0.0  \n",
       "1        0.0  \n",
       "2        0.0  \n",
       "3        0.0  \n",
       "4        0.0  "
      ]
     },
     "execution_count": 27,
     "metadata": {},
     "output_type": "execute_result"
    }
   ],
   "source": [
    "text_df.head()"
   ]
  },
  {
   "cell_type": "markdown",
   "metadata": {},
   "source": [
    "# **7. Tokenize Text with Regex Tokenizer**"
   ]
  },
  {
   "cell_type": "markdown",
   "metadata": {},
   "source": [
    "Converting text into lower so the model don't treat different casing as different words"
   ]
  },
  {
   "cell_type": "code",
   "execution_count": 28,
   "metadata": {},
   "outputs": [],
   "source": [
    "text_df.loc[:, 'text'] = text_df['text'].str.lower()"
   ]
  },
  {
   "cell_type": "code",
   "execution_count": 29,
   "metadata": {},
   "outputs": [
    {
     "data": {
      "text/plain": [
       "['$',\n",
       " 'btc',\n",
       " 'a',\n",
       " 'big',\n",
       " 'chance',\n",
       " 'in',\n",
       " 'a',\n",
       " 'billion',\n",
       " '!',\n",
       " 'price',\n",
       " ':',\n",
       " '\\\\',\n",
       " '.',\n",
       " '(',\n",
       " '/',\n",
       " '/',\n",
       " ':)',\n",
       " '#bitcoin',\n",
       " '#fx',\n",
       " '#btc',\n",
       " '#crypto']"
      ]
     },
     "execution_count": 29,
     "metadata": {},
     "output_type": "execute_result"
    }
   ],
   "source": [
    "tweet_tokenizer = TweetTokenizer()\n",
    "tweet_tokenizer.tokenize(text_df['text'][3])"
   ]
  },
  {
   "cell_type": "code",
   "execution_count": 30,
   "metadata": {},
   "outputs": [
    {
     "data": {
      "text/plain": [
       "['btc',\n",
       " 'big',\n",
       " 'chance',\n",
       " 'in',\n",
       " 'billion',\n",
       " 'price',\n",
       " 'bitcoin',\n",
       " 'fx',\n",
       " 'btc',\n",
       " 'crypto']"
      ]
     },
     "execution_count": 30,
     "metadata": {},
     "output_type": "execute_result"
    }
   ],
   "source": [
    "basic_token_pattern = r\"(?u)\\b\\w\\w+\\b\"\n",
    "tokenizer = RegexpTokenizer(basic_token_pattern)\n",
    "tokenizer.tokenize(text_df['text'][3])"
   ]
  },
  {
   "cell_type": "markdown",
   "metadata": {},
   "source": [
    "We will go with the regex tokenizer since it seems it isolate key words better"
   ]
  },
  {
   "cell_type": "code",
   "execution_count": 31,
   "metadata": {},
   "outputs": [
    {
     "name": "stderr",
     "output_type": "stream",
     "text": [
      "C:\\Users\\Jehoiada Wong\\AppData\\Local\\Temp\\ipykernel_14296\\1446832684.py:1: SettingWithCopyWarning: \n",
      "A value is trying to be set on a copy of a slice from a DataFrame.\n",
      "Try using .loc[row_indexer,col_indexer] = value instead\n",
      "\n",
      "See the caveats in the documentation: https://pandas.pydata.org/pandas-docs/stable/user_guide/indexing.html#returning-a-view-versus-a-copy\n",
      "  text_df['tokenized_text'] = text_df['text'].apply(tokenizer.tokenize)\n"
     ]
    }
   ],
   "source": [
    "text_df['tokenized_text'] = text_df['text'].apply(tokenizer.tokenize)"
   ]
  },
  {
   "cell_type": "code",
   "execution_count": 32,
   "metadata": {},
   "outputs": [
    {
     "name": "stderr",
     "output_type": "stream",
     "text": [
      "C:\\Users\\Jehoiada Wong\\AppData\\Local\\Temp\\ipykernel_14296\\2521372626.py:8: SettingWithCopyWarning: \n",
      "A value is trying to be set on a copy of a slice from a DataFrame.\n",
      "Try using .loc[row_indexer,col_indexer] = value instead\n",
      "\n",
      "See the caveats in the documentation: https://pandas.pydata.org/pandas-docs/stable/user_guide/indexing.html#returning-a-view-versus-a-copy\n",
      "  text_df.loc[:, 'text2'] = [\" \".join(lst) for lst in text_df['tokenized_text']]\n"
     ]
    },
    {
     "name": "stdout",
     "output_type": "stream",
     "text": [
      "ð today, that's this #thursday, we will do a \"ð¬ take \" with our friend , #btc #wallet #security expeâ¦ l5\n",
      "today that this thursday we will do take with our friend bitcoin wallet security expeâ l5\n"
     ]
    }
   ],
   "source": [
    "# abbreviation dictionary\n",
    "abbv_dict = {'btc': 'bitcoin', \n",
    "             'ethereum': 'eth', \n",
    "             'cryptocurrency': 'crypto', \n",
    "             'dogecoin': 'doge'}\n",
    "\n",
    "# tokenized text back to single string for functionality\n",
    "text_df.loc[:, 'text2'] = [\" \".join(lst) for lst in text_df['tokenized_text']]\n",
    "\n",
    "# replacing key with value\n",
    "for key in abbv_dict.keys():\n",
    "    text_df.loc[:, 'text2'] = text_df['text2'].apply(lambda text_str: text_str.replace(key, abbv_dict[key]))\n",
    "\n",
    "# before and after    \n",
    "print(text_df['text'][1])\n",
    "print(text_df['text2'][1])"
   ]
  },
  {
   "cell_type": "code",
   "execution_count": 33,
   "metadata": {},
   "outputs": [
    {
     "name": "stdout",
     "output_type": "stream",
     "text": [
      "this is a nice setup for #btc to make a run back to ath. #bitcoin x5\n",
      "this is nice setup for bitcoin to make run back to ath bitcoin x5\n"
     ]
    }
   ],
   "source": [
    "print(text_df['text'][20000])\n",
    "print(text_df['text2'][20000])"
   ]
  },
  {
   "cell_type": "markdown",
   "metadata": {},
   "source": [
    "Tokenizing text2"
   ]
  },
  {
   "cell_type": "code",
   "execution_count": 34,
   "metadata": {},
   "outputs": [],
   "source": [
    "text_df.loc[:, 'tokenized_text'] = text_df[\"text2\"].apply(tokenizer.tokenize)"
   ]
  },
  {
   "cell_type": "markdown",
   "metadata": {},
   "source": [
    "Creating columng that contains all the hashtags in each tweets"
   ]
  },
  {
   "cell_type": "code",
   "execution_count": 35,
   "metadata": {},
   "outputs": [
    {
     "name": "stderr",
     "output_type": "stream",
     "text": [
      "C:\\Users\\Jehoiada Wong\\AppData\\Local\\Temp\\ipykernel_14296\\3389650317.py:1: SettingWithCopyWarning: \n",
      "A value is trying to be set on a copy of a slice from a DataFrame.\n",
      "Try using .loc[row_indexer,col_indexer] = value instead\n",
      "\n",
      "See the caveats in the documentation: https://pandas.pydata.org/pandas-docs/stable/user_guide/indexing.html#returning-a-view-versus-a-copy\n",
      "  text_df.loc[:, 'hashtags'] = text_df['text']\\\n"
     ]
    }
   ],
   "source": [
    "text_df.loc[:, 'hashtags'] = text_df['text']\\\n",
    "    .apply(lambda x: re.findall(r'\\B#\\w*[a-zA-Z]+\\w*', x))"
   ]
  },
  {
   "cell_type": "code",
   "execution_count": 36,
   "metadata": {},
   "outputs": [
    {
     "data": {
      "text/html": [
       "<div>\n",
       "<style scoped>\n",
       "    .dataframe tbody tr th:only-of-type {\n",
       "        vertical-align: middle;\n",
       "    }\n",
       "\n",
       "    .dataframe tbody tr th {\n",
       "        vertical-align: top;\n",
       "    }\n",
       "\n",
       "    .dataframe thead th {\n",
       "        text-align: right;\n",
       "    }\n",
       "</style>\n",
       "<table border=\"1\" class=\"dataframe\">\n",
       "  <thead>\n",
       "    <tr style=\"text-align: right;\">\n",
       "      <th></th>\n",
       "      <th>date</th>\n",
       "      <th>text</th>\n",
       "      <th>is_retweet</th>\n",
       "      <th>sentiment</th>\n",
       "      <th>tokenized_text</th>\n",
       "      <th>text2</th>\n",
       "      <th>hashtags</th>\n",
       "    </tr>\n",
       "  </thead>\n",
       "  <tbody>\n",
       "    <tr>\n",
       "      <th>0</th>\n",
       "      <td>2021-02-10</td>\n",
       "      <td>blue ridge bank shares halted by nyse after #b...</td>\n",
       "      <td>False</td>\n",
       "      <td>0.0</td>\n",
       "      <td>[blue, ridge, bank, shares, halted, by, nyse, ...</td>\n",
       "      <td>blue ridge bank shares halted by nyse after bi...</td>\n",
       "      <td>[#bitcoin]</td>\n",
       "    </tr>\n",
       "    <tr>\n",
       "      <th>1</th>\n",
       "      <td>2021-02-10</td>\n",
       "      <td>ð today, that's this #thursday, we will do ...</td>\n",
       "      <td>False</td>\n",
       "      <td>0.0</td>\n",
       "      <td>[today, that, this, thursday, we, will, do, ta...</td>\n",
       "      <td>today that this thursday we will do take with ...</td>\n",
       "      <td>[#thursday, #btc, #wallet, #security]</td>\n",
       "    </tr>\n",
       "    <tr>\n",
       "      <th>2</th>\n",
       "      <td>2021-02-10</td>\n",
       "      <td>guys evening, i have read this article about b...</td>\n",
       "      <td>False</td>\n",
       "      <td>0.0</td>\n",
       "      <td>[guys, evening, have, read, this, article, abo...</td>\n",
       "      <td>guys evening have read this article about bitc...</td>\n",
       "      <td>[]</td>\n",
       "    </tr>\n",
       "    <tr>\n",
       "      <th>3</th>\n",
       "      <td>2021-02-10</td>\n",
       "      <td>$btc a big chance in a billion! price: \\. (// ...</td>\n",
       "      <td>False</td>\n",
       "      <td>0.0</td>\n",
       "      <td>[bitcoin, big, chance, in, billion, price, bit...</td>\n",
       "      <td>bitcoin big chance in billion price bitcoin fx...</td>\n",
       "      <td>[#bitcoin, #fx, #btc, #crypto]</td>\n",
       "    </tr>\n",
       "    <tr>\n",
       "      <th>4</th>\n",
       "      <td>2021-02-10</td>\n",
       "      <td>this network is secured by   nodes as of today...</td>\n",
       "      <td>False</td>\n",
       "      <td>0.0</td>\n",
       "      <td>[this, network, is, secured, by, nodes, as, of...</td>\n",
       "      <td>this network is secured by nodes as of today s...</td>\n",
       "      <td>[#btc]</td>\n",
       "    </tr>\n",
       "  </tbody>\n",
       "</table>\n",
       "</div>"
      ],
      "text/plain": [
       "         date                                               text is_retweet  \\\n",
       "0  2021-02-10  blue ridge bank shares halted by nyse after #b...      False   \n",
       "1  2021-02-10  ð today, that's this #thursday, we will do ...      False   \n",
       "2  2021-02-10  guys evening, i have read this article about b...      False   \n",
       "3  2021-02-10  $btc a big chance in a billion! price: \\. (// ...      False   \n",
       "4  2021-02-10  this network is secured by   nodes as of today...      False   \n",
       "\n",
       "   sentiment                                     tokenized_text  \\\n",
       "0        0.0  [blue, ridge, bank, shares, halted, by, nyse, ...   \n",
       "1        0.0  [today, that, this, thursday, we, will, do, ta...   \n",
       "2        0.0  [guys, evening, have, read, this, article, abo...   \n",
       "3        0.0  [bitcoin, big, chance, in, billion, price, bit...   \n",
       "4        0.0  [this, network, is, secured, by, nodes, as, of...   \n",
       "\n",
       "                                               text2  \\\n",
       "0  blue ridge bank shares halted by nyse after bi...   \n",
       "1  today that this thursday we will do take with ...   \n",
       "2  guys evening have read this article about bitc...   \n",
       "3  bitcoin big chance in billion price bitcoin fx...   \n",
       "4  this network is secured by nodes as of today s...   \n",
       "\n",
       "                                hashtags  \n",
       "0                             [#bitcoin]  \n",
       "1  [#thursday, #btc, #wallet, #security]  \n",
       "2                                     []  \n",
       "3         [#bitcoin, #fx, #btc, #crypto]  \n",
       "4                                 [#btc]  "
      ]
     },
     "execution_count": 36,
     "metadata": {},
     "output_type": "execute_result"
    }
   ],
   "source": [
    "text_df.head()"
   ]
  },
  {
   "cell_type": "markdown",
   "metadata": {},
   "source": [
    "# **8. Removing stopwords and punctuation**"
   ]
  },
  {
   "cell_type": "code",
   "execution_count": 37,
   "metadata": {},
   "outputs": [],
   "source": [
    "stopwords_list = stopwords.words('english')\n",
    "stopwords_list += list(string.punctuation)"
   ]
  },
  {
   "cell_type": "code",
   "execution_count": 38,
   "metadata": {},
   "outputs": [],
   "source": [
    "def remove_stopwords(token_list):\n",
    "    filtered = [word for word in token_list if word not in stopwords_list]  \n",
    "    return \" \".join(filtered)"
   ]
  },
  {
   "cell_type": "code",
   "execution_count": 39,
   "metadata": {},
   "outputs": [
    {
     "name": "stderr",
     "output_type": "stream",
     "text": [
      "C:\\Users\\Jehoiada Wong\\AppData\\Local\\Temp\\ipykernel_14296\\2231936551.py:2: SettingWithCopyWarning: \n",
      "A value is trying to be set on a copy of a slice from a DataFrame.\n",
      "Try using .loc[row_indexer,col_indexer] = value instead\n",
      "\n",
      "See the caveats in the documentation: https://pandas.pydata.org/pandas-docs/stable/user_guide/indexing.html#returning-a-view-versus-a-copy\n",
      "  text_df.loc[:, \"text_without_stopwords\"] = text_df[\"tokenized_text\"].apply(remove_stopwords)\n"
     ]
    }
   ],
   "source": [
    "# applying remove stopwords function\n",
    "text_df.loc[:, \"text_without_stopwords\"] = text_df[\"tokenized_text\"].apply(remove_stopwords)"
   ]
  },
  {
   "cell_type": "markdown",
   "metadata": {},
   "source": [
    "# *Additional*"
   ]
  },
  {
   "cell_type": "markdown",
   "metadata": {},
   "source": [
    "Counting for how many hashtag there is in a single tweet"
   ]
  },
  {
   "cell_type": "code",
   "execution_count": 40,
   "metadata": {},
   "outputs": [
    {
     "name": "stderr",
     "output_type": "stream",
     "text": [
      "C:\\Users\\Jehoiada Wong\\AppData\\Local\\Temp\\ipykernel_14296\\1997535160.py:1: SettingWithCopyWarning: \n",
      "A value is trying to be set on a copy of a slice from a DataFrame.\n",
      "Try using .loc[row_indexer,col_indexer] = value instead\n",
      "\n",
      "See the caveats in the documentation: https://pandas.pydata.org/pandas-docs/stable/user_guide/indexing.html#returning-a-view-versus-a-copy\n",
      "  text_df.loc[:, 'hashtag_count'] = text_df['hashtags'].apply(len)\n"
     ]
    }
   ],
   "source": [
    "text_df.loc[:, 'hashtag_count'] = text_df['hashtags'].apply(len)"
   ]
  },
  {
   "cell_type": "markdown",
   "metadata": {},
   "source": [
    "Counting the tweet length"
   ]
  },
  {
   "cell_type": "code",
   "execution_count": 41,
   "metadata": {},
   "outputs": [
    {
     "name": "stderr",
     "output_type": "stream",
     "text": [
      "C:\\Users\\Jehoiada Wong\\AppData\\Local\\Temp\\ipykernel_14296\\3414855913.py:1: SettingWithCopyWarning: \n",
      "A value is trying to be set on a copy of a slice from a DataFrame.\n",
      "Try using .loc[row_indexer,col_indexer] = value instead\n",
      "\n",
      "See the caveats in the documentation: https://pandas.pydata.org/pandas-docs/stable/user_guide/indexing.html#returning-a-view-versus-a-copy\n",
      "  text_df.loc[:, 'tweet_length'] = text_df['tokenized_text'].apply(len)\n"
     ]
    }
   ],
   "source": [
    "text_df.loc[:, 'tweet_length'] = text_df['tokenized_text'].apply(len)"
   ]
  },
  {
   "cell_type": "markdown",
   "metadata": {},
   "source": [
    "Showing if the tweet contains a price or not"
   ]
  },
  {
   "cell_type": "code",
   "execution_count": 42,
   "metadata": {},
   "outputs": [
    {
     "name": "stderr",
     "output_type": "stream",
     "text": [
      "C:\\Users\\Jehoiada Wong\\AppData\\Local\\Temp\\ipykernel_14296\\45996142.py:2: SettingWithCopyWarning: \n",
      "A value is trying to be set on a copy of a slice from a DataFrame.\n",
      "Try using .loc[row_indexer,col_indexer] = value instead\n",
      "\n",
      "See the caveats in the documentation: https://pandas.pydata.org/pandas-docs/stable/user_guide/indexing.html#returning-a-view-versus-a-copy\n",
      "  text_df.loc[:, \"contains_price\"] = text_df[\"text\"].str.contains(price_query)\n"
     ]
    }
   ],
   "source": [
    "price_query = r'\\$(?:\\d{1,3}[,.]?)+(?:\\\\d{1,2})?'\n",
    "text_df.loc[:, \"contains_price\"] = text_df[\"text\"].str.contains(price_query)"
   ]
  },
  {
   "cell_type": "code",
   "execution_count": 43,
   "metadata": {},
   "outputs": [
    {
     "name": "stdout",
     "output_type": "stream",
     "text": [
      "<class 'pandas.core.frame.DataFrame'>\n",
      "RangeIndex: 999981 entries, 0 to 999980\n",
      "Data columns (total 11 columns):\n",
      " #   Column                  Non-Null Count   Dtype  \n",
      "---  ------                  --------------   -----  \n",
      " 0   date                    999981 non-null  object \n",
      " 1   text                    999981 non-null  object \n",
      " 2   is_retweet              999981 non-null  object \n",
      " 3   sentiment               999981 non-null  float64\n",
      " 4   tokenized_text          999981 non-null  object \n",
      " 5   text2                   999981 non-null  object \n",
      " 6   hashtags                999981 non-null  object \n",
      " 7   text_without_stopwords  999981 non-null  object \n",
      " 8   hashtag_count           999981 non-null  int64  \n",
      " 9   tweet_length            999981 non-null  int64  \n",
      " 10  contains_price          999981 non-null  bool   \n",
      "dtypes: bool(1), float64(1), int64(2), object(7)\n",
      "memory usage: 77.2+ MB\n"
     ]
    }
   ],
   "source": [
    "text_df.info()"
   ]
  },
  {
   "cell_type": "code",
   "execution_count": 44,
   "metadata": {},
   "outputs": [
    {
     "data": {
      "text/html": [
       "<div>\n",
       "<style scoped>\n",
       "    .dataframe tbody tr th:only-of-type {\n",
       "        vertical-align: middle;\n",
       "    }\n",
       "\n",
       "    .dataframe tbody tr th {\n",
       "        vertical-align: top;\n",
       "    }\n",
       "\n",
       "    .dataframe thead th {\n",
       "        text-align: right;\n",
       "    }\n",
       "</style>\n",
       "<table border=\"1\" class=\"dataframe\">\n",
       "  <thead>\n",
       "    <tr style=\"text-align: right;\">\n",
       "      <th></th>\n",
       "      <th>date</th>\n",
       "      <th>text</th>\n",
       "      <th>is_retweet</th>\n",
       "      <th>sentiment</th>\n",
       "      <th>tokenized_text</th>\n",
       "      <th>text2</th>\n",
       "      <th>hashtags</th>\n",
       "      <th>text_without_stopwords</th>\n",
       "      <th>hashtag_count</th>\n",
       "      <th>tweet_length</th>\n",
       "      <th>contains_price</th>\n",
       "    </tr>\n",
       "  </thead>\n",
       "  <tbody>\n",
       "    <tr>\n",
       "      <th>0</th>\n",
       "      <td>2021-02-10</td>\n",
       "      <td>blue ridge bank shares halted by nyse after #b...</td>\n",
       "      <td>False</td>\n",
       "      <td>0.0</td>\n",
       "      <td>[blue, ridge, bank, shares, halted, by, nyse, ...</td>\n",
       "      <td>blue ridge bank shares halted by nyse after bi...</td>\n",
       "      <td>[#bitcoin]</td>\n",
       "      <td>blue ridge bank shares halted nyse bitcoin atm...</td>\n",
       "      <td>1</td>\n",
       "      <td>13</td>\n",
       "      <td>False</td>\n",
       "    </tr>\n",
       "    <tr>\n",
       "      <th>1</th>\n",
       "      <td>2021-02-10</td>\n",
       "      <td>ð today, that's this #thursday, we will do ...</td>\n",
       "      <td>False</td>\n",
       "      <td>0.0</td>\n",
       "      <td>[today, that, this, thursday, we, will, do, ta...</td>\n",
       "      <td>today that this thursday we will do take with ...</td>\n",
       "      <td>[#thursday, #btc, #wallet, #security]</td>\n",
       "      <td>today thursday take friend bitcoin wallet secu...</td>\n",
       "      <td>4</td>\n",
       "      <td>16</td>\n",
       "      <td>False</td>\n",
       "    </tr>\n",
       "    <tr>\n",
       "      <th>2</th>\n",
       "      <td>2021-02-10</td>\n",
       "      <td>guys evening, i have read this article about b...</td>\n",
       "      <td>False</td>\n",
       "      <td>0.0</td>\n",
       "      <td>[guys, evening, have, read, this, article, abo...</td>\n",
       "      <td>guys evening have read this article about bitc...</td>\n",
       "      <td>[]</td>\n",
       "      <td>guys evening read article bitcoin would like s...</td>\n",
       "      <td>0</td>\n",
       "      <td>18</td>\n",
       "      <td>False</td>\n",
       "    </tr>\n",
       "    <tr>\n",
       "      <th>3</th>\n",
       "      <td>2021-02-10</td>\n",
       "      <td>$btc a big chance in a billion! price: \\. (// ...</td>\n",
       "      <td>False</td>\n",
       "      <td>0.0</td>\n",
       "      <td>[bitcoin, big, chance, in, billion, price, bit...</td>\n",
       "      <td>bitcoin big chance in billion price bitcoin fx...</td>\n",
       "      <td>[#bitcoin, #fx, #btc, #crypto]</td>\n",
       "      <td>bitcoin big chance billion price bitcoin fx bi...</td>\n",
       "      <td>4</td>\n",
       "      <td>10</td>\n",
       "      <td>False</td>\n",
       "    </tr>\n",
       "    <tr>\n",
       "      <th>4</th>\n",
       "      <td>2021-02-10</td>\n",
       "      <td>this network is secured by   nodes as of today...</td>\n",
       "      <td>False</td>\n",
       "      <td>0.0</td>\n",
       "      <td>[this, network, is, secured, by, nodes, as, of...</td>\n",
       "      <td>this network is secured by nodes as of today s...</td>\n",
       "      <td>[#btc]</td>\n",
       "      <td>network secured nodes today soon biggest bears...</td>\n",
       "      <td>1</td>\n",
       "      <td>22</td>\n",
       "      <td>False</td>\n",
       "    </tr>\n",
       "  </tbody>\n",
       "</table>\n",
       "</div>"
      ],
      "text/plain": [
       "         date                                               text is_retweet  \\\n",
       "0  2021-02-10  blue ridge bank shares halted by nyse after #b...      False   \n",
       "1  2021-02-10  ð today, that's this #thursday, we will do ...      False   \n",
       "2  2021-02-10  guys evening, i have read this article about b...      False   \n",
       "3  2021-02-10  $btc a big chance in a billion! price: \\. (// ...      False   \n",
       "4  2021-02-10  this network is secured by   nodes as of today...      False   \n",
       "\n",
       "   sentiment                                     tokenized_text  \\\n",
       "0        0.0  [blue, ridge, bank, shares, halted, by, nyse, ...   \n",
       "1        0.0  [today, that, this, thursday, we, will, do, ta...   \n",
       "2        0.0  [guys, evening, have, read, this, article, abo...   \n",
       "3        0.0  [bitcoin, big, chance, in, billion, price, bit...   \n",
       "4        0.0  [this, network, is, secured, by, nodes, as, of...   \n",
       "\n",
       "                                               text2  \\\n",
       "0  blue ridge bank shares halted by nyse after bi...   \n",
       "1  today that this thursday we will do take with ...   \n",
       "2  guys evening have read this article about bitc...   \n",
       "3  bitcoin big chance in billion price bitcoin fx...   \n",
       "4  this network is secured by nodes as of today s...   \n",
       "\n",
       "                                hashtags  \\\n",
       "0                             [#bitcoin]   \n",
       "1  [#thursday, #btc, #wallet, #security]   \n",
       "2                                     []   \n",
       "3         [#bitcoin, #fx, #btc, #crypto]   \n",
       "4                                 [#btc]   \n",
       "\n",
       "                              text_without_stopwords  hashtag_count  \\\n",
       "0  blue ridge bank shares halted nyse bitcoin atm...              1   \n",
       "1  today thursday take friend bitcoin wallet secu...              4   \n",
       "2  guys evening read article bitcoin would like s...              0   \n",
       "3  bitcoin big chance billion price bitcoin fx bi...              4   \n",
       "4  network secured nodes today soon biggest bears...              1   \n",
       "\n",
       "   tweet_length  contains_price  \n",
       "0            13           False  \n",
       "1            16           False  \n",
       "2            18           False  \n",
       "3            10           False  \n",
       "4            22           False  "
      ]
     },
     "execution_count": 44,
     "metadata": {},
     "output_type": "execute_result"
    }
   ],
   "source": [
    "text_df.head()"
   ]
  },
  {
   "cell_type": "code",
   "execution_count": 45,
   "metadata": {},
   "outputs": [
    {
     "data": {
      "text/plain": [
       "date                                                             2021-02-10\n",
       "text                      ð prices update in $usd ( hour):\\n\\n$btc   ...\n",
       "is_retweet                                                            False\n",
       "sentiment                                                               0.0\n",
       "tokenized_text            [prices, update, in, usd, hour, bitcoin, eth, ...\n",
       "text2                          prices update in usd hour bitcoin eth xrp vr\n",
       "hashtags                                                                 []\n",
       "text_without_stopwords            prices update usd hour bitcoin eth xrp vr\n",
       "hashtag_count                                                             0\n",
       "tweet_length                                                              9\n",
       "contains_price                                                        False\n",
       "Name: 97, dtype: object"
      ]
     },
     "execution_count": 45,
     "metadata": {},
     "output_type": "execute_result"
    }
   ],
   "source": [
    "text_df.iloc[97, :]"
   ]
  },
  {
   "cell_type": "code",
   "execution_count": 46,
   "metadata": {},
   "outputs": [
    {
     "name": "stdout",
     "output_type": "stream",
     "text": [
      "999980\n",
      "999980\n"
     ]
    }
   ],
   "source": [
    "print(len(text_df) - len(text_df[text_df['text_without_stopwords']=='']))\n",
    "text_df = text_df[text_df['text_without_stopwords'] != '']\n",
    "print(len(text_df))"
   ]
  },
  {
   "cell_type": "code",
   "execution_count": 47,
   "metadata": {},
   "outputs": [],
   "source": [
    "from sklearn.model_selection import train_test_split "
   ]
  },
  {
   "cell_type": "code",
   "execution_count": 48,
   "metadata": {},
   "outputs": [],
   "source": [
    "preprocessed_tweets = text_df"
   ]
  },
  {
   "cell_type": "code",
   "execution_count": 49,
   "metadata": {},
   "outputs": [
    {
     "data": {
      "text/plain": [
       "(sentiment\n",
       " 0.0    0.527055\n",
       " 1.0    0.472945\n",
       " Name: proportion, dtype: float64,\n",
       " 999980)"
      ]
     },
     "execution_count": 49,
     "metadata": {},
     "output_type": "execute_result"
    }
   ],
   "source": [
    "preprocessed_tweets['sentiment'].value_counts(normalize=True), len(preprocessed_tweets)"
   ]
  },
  {
   "cell_type": "code",
   "execution_count": 50,
   "metadata": {},
   "outputs": [
    {
     "data": {
      "text/plain": [
       "array(['date', 'text', 'is_retweet', 'sentiment', 'tokenized_text',\n",
       "       'text2', 'hashtags', 'text_without_stopwords', 'hashtag_count',\n",
       "       'tweet_length', 'contains_price'], dtype=object)"
      ]
     },
     "execution_count": 50,
     "metadata": {},
     "output_type": "execute_result"
    }
   ],
   "source": [
    "preprocessed_tweets.columns.values"
   ]
  },
  {
   "cell_type": "code",
   "execution_count": 51,
   "metadata": {},
   "outputs": [],
   "source": [
    "preprocessed_tweets = preprocessed_tweets[['date', 'text', 'is_retweet', 'tokenized_text',\n",
    "       'text2', 'hashtags', 'text_without_stopwords', 'hashtag_count',\n",
    "       'tweet_length', 'contains_price', 'sentiment']]"
   ]
  },
  {
   "cell_type": "code",
   "execution_count": 52,
   "metadata": {},
   "outputs": [
    {
     "name": "stderr",
     "output_type": "stream",
     "text": [
      "C:\\Users\\Jehoiada Wong\\AppData\\Local\\Temp\\ipykernel_14296\\1927248307.py:1: SettingWithCopyWarning: \n",
      "A value is trying to be set on a copy of a slice from a DataFrame.\n",
      "Try using .loc[row_indexer,col_indexer] = value instead\n",
      "\n",
      "See the caveats in the documentation: https://pandas.pydata.org/pandas-docs/stable/user_guide/indexing.html#returning-a-view-versus-a-copy\n",
      "  preprocessed_tweets['labels'] = preprocessed_tweets['sentiment']\n"
     ]
    }
   ],
   "source": [
    "preprocessed_tweets['labels'] = preprocessed_tweets['sentiment']\n",
    "preprocessed_tweets.drop(['sentiment'], axis=1, inplace=True) \n",
    "preprocessed_tweets['labels'] = preprocessed_tweets['labels'].astype(int)"
   ]
  },
  {
   "cell_type": "markdown",
   "metadata": {},
   "source": [
    "## Export preprocessed dataset"
   ]
  },
  {
   "cell_type": "code",
   "execution_count": 53,
   "metadata": {},
   "outputs": [],
   "source": [
    "preprocessed_tweets.to_csv(\"preprocessed_tweets.csv\",index=False)"
   ]
  }
 ],
 "metadata": {
  "kernelspec": {
   "display_name": "natural-language-processing",
   "language": "python",
   "name": "python3"
  },
  "language_info": {
   "codemirror_mode": {
    "name": "ipython",
    "version": 3
   },
   "file_extension": ".py",
   "mimetype": "text/x-python",
   "name": "python",
   "nbconvert_exporter": "python",
   "pygments_lexer": "ipython3",
   "version": "3.10.9"
  }
 },
 "nbformat": 4,
 "nbformat_minor": 2
}
